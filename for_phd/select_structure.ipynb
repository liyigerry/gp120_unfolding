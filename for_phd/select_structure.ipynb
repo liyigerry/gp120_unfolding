{
 "cells": [
  {
   "cell_type": "code",
   "execution_count": 1,
   "metadata": {},
   "outputs": [],
   "source": [
    "import mdtraj as md"
   ]
  },
  {
   "cell_type": "code",
   "execution_count": 2,
   "metadata": {},
   "outputs": [],
   "source": [
    "h_u_top = md.load('/home/gerry/heat/structures/H-unbound.pdb')\n",
    "h_l_top = md.load('/home/gerry/heat/structures/H-bound.pdb')\n",
    "\n",
    "r2_u_top = md.load('/home/gerry/heat/structures/r2-unbound.pdb')\n",
    "r2_l_top = md.load('/home/gerry/heat/structures/r2_bound.pdb')"
   ]
  },
  {
   "cell_type": "code",
   "execution_count": 3,
   "metadata": {},
   "outputs": [],
   "source": [
    "t = '623'\n",
    "traj = md.load_xtc('/home/gerry/heat/v3/pro_xtc_10_21/H_unbound/H_unbound_pro_'+t+'k.xtc', top=h_u_top)"
   ]
  },
  {
   "cell_type": "code",
   "execution_count": 4,
   "metadata": {},
   "outputs": [],
   "source": [
    "traj[2000:2050].save_pdb('h623_select.pdb')"
   ]
  }
 ],
 "metadata": {
  "kernelspec": {
   "display_name": "Python 2",
   "language": "python",
   "name": "python2"
  },
  "language_info": {
   "codemirror_mode": {
    "name": "ipython",
    "version": 2
   },
   "file_extension": ".py",
   "mimetype": "text/x-python",
   "name": "python",
   "nbconvert_exporter": "python",
   "pygments_lexer": "ipython2",
   "version": "2.7.6"
  }
 },
 "nbformat": 4,
 "nbformat_minor": 2
}
