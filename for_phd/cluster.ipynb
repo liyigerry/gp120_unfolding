{
 "cells": [
  {
   "cell_type": "code",
   "execution_count": 54,
   "metadata": {},
   "outputs": [
    {
     "name": "stdout",
     "output_type": "stream",
     "text": [
      "Populating the interactive namespace from numpy and matplotlib\n"
     ]
    }
   ],
   "source": [
    "%pylab inline\n",
    "import pandas as pd\n",
    "import mdtraj as md\n",
    "from sklearn.cluster import KMeans\n",
    "matplotlib.rcParams.update({'font.size': 20})"
   ]
  },
  {
   "cell_type": "code",
   "execution_count": 3,
   "metadata": {},
   "outputs": [],
   "source": [
    "h_unbound_rmsd_to_u = pd.read_csv('h_unbound_to_u.csv').values.ravel()\n",
    "\n",
    "h_unbound_q = pd.read_csv('h_unbound_q.csv').values.ravel()"
   ]
  },
  {
   "cell_type": "code",
   "execution_count": 4,
   "metadata": {},
   "outputs": [
    {
     "data": {
      "text/plain": [
       "array([9, 9, 9, ..., 0, 0, 0], dtype=int32)"
      ]
     },
     "execution_count": 4,
     "metadata": {},
     "output_type": "execute_result"
    }
   ],
   "source": [
    "f_h = vstack((h_unbound_rmsd_to_u, h_unbound_q))\n",
    "kmeans = KMeans(n_clusters=20).fit(f_h.T)\n",
    "kmeans.labels_"
   ]
  },
  {
   "cell_type": "code",
   "execution_count": 6,
   "metadata": {},
   "outputs": [
    {
     "data": {
      "image/png": "[encoded data removed]",
      "text/plain": [
       "<matplotlib.figure.Figure at 0x7f6de2759690>"
      ]
     },
     "metadata": {},
     "output_type": "display_data"
    }
   ],
   "source": [
    "z,x,y = np.histogram2d(h_unbound_rmsd_to_u, h_unbound_q, bins=25)\n",
    "extent = [x[0], x[-1], y[0], y[-1]]\n",
    "contourf(np.log(z.T), 25, cmap=plt.cm.Oranges, extent=extent)\n",
    "xlabel('Backbone RMSD (nm)')\n",
    "xlim(0,2)\n",
    "xticks(arange(0,2.1,0.5))\n",
    "ylabel('Q')\n",
    "ylim(0,1)\n",
    "yticks([0,0.6,0.8,1.0])\n",
    "clb = colorbar()\n",
    "clb.set_label('ln(count)')\n",
    "\n",
    "cc_x = kmeans.cluster_centers_[:,0]\n",
    "cc_y = kmeans.cluster_centers_[:,1]\n",
    "plot(cc_x,cc_y, linewidth=0, marker='o', markersize=5, color='black')\n",
    "savefig('fig_src/q.png', format='png', dpi=600, bbox_inches=\"tight\")"
   ]
  },
  {
   "cell_type": "code",
   "execution_count": 33,
   "metadata": {},
   "outputs": [
    {
     "name": "stdout",
     "output_type": "stream",
     "text": [
      "[62579, 60107, 33074, 49840, 52127, 54046, 60871, 62810, 60298, 51024, 57260, 61859, 48161, 39041, 60356, 48277, 42052, 57814, 60118, 62220]\n"
     ]
    }
   ],
   "source": [
    "centerid = []\n",
    "for i in range(0,20):\n",
    "    rmsd_index = np.where((h_unbound_rmsd_to_u>kmeans.cluster_centers_[i,0]-0.01) & (h_unbound_rmsd_to_u<kmeans.cluster_centers_[i,0]+0.01))[0]\n",
    "    q_index = np.where((h_unbound_q>kmeans.cluster_centers_[i,1]-0.002) & (h_unbound_q<kmeans.cluster_centers_[i,1]+0.002))[0]\n",
    "    mask = np.in1d(rmsd_index, q_index)\n",
    "    centerid.append(rmsd_index[mask][-1])\n",
    "print centerid"
   ]
  },
  {
   "cell_type": "code",
   "execution_count": 52,
   "metadata": {},
   "outputs": [
    {
     "name": "stdout",
     "output_type": "stream",
     "text": [
      "[(20, 2559), (20, 87), (11, 63), (16, 1824), (17, 1110), (18, 28), (20, 851), (20, 2790), (20, 278), (17, 7), (19, 241), (20, 1839), (16, 145), (13, 28), (20, 336), (16, 261), (14, 38), (19, 795), (20, 98), (20, 2200)]\n"
     ]
    }
   ],
   "source": [
    "traj_index = []\n",
    "traj_index_m = array(range(0,h_unbound_rmsd_to_u.size)).reshape(21,h_unbound_rmsd_to_u.size/21)\n",
    "for i in centerid:\n",
    "    traj_index.append((np.where(traj_index_m==i)[0][0],np.where(traj_index_m==i)[1][0]))\n",
    "print traj_index"
   ]
  },
  {
   "cell_type": "code",
   "execution_count": 55,
   "metadata": {},
   "outputs": [],
   "source": [
    "temps = ('300k','300k1','300k2','373k','373k1','373k2','423k','423k1','423k2','473k','473k1','473k2','523k','523k1','523k2','573k','573k1','573k2','623k','623k1','623k2')\n",
    "h_u_top = md.load('/home/gerry/heat/structures/H-unbound.pdb')"
   ]
  },
  {
   "cell_type": "code",
   "execution_count": 57,
   "metadata": {},
   "outputs": [],
   "source": [
    "for i,(t,f) in enumerate(traj_index):\n",
    "    traj = md.load_xtc('/home/gerry/heat/pro/H_unbound/H_unbound_pro_'+temps[t]+'.xtc', top=h_u_top)\n",
    "    traj[f].save_pdb('centers/'+str(i)+'.pdb')"
   ]
  }
 ],
 "metadata": {
  "kernelspec": {
   "display_name": "Python 2",
   "language": "python",
   "name": "python2"
  },
  "language_info": {
   "codemirror_mode": {
    "name": "ipython",
    "version": 2
   },
   "file_extension": ".py",
   "mimetype": "text/x-python",
   "name": "python",
   "nbconvert_exporter": "python",
   "pygments_lexer": "ipython2",
   "version": "2.7.6"
  },
  "widgets": {
   "state": {},
   "version": "1.1.2"
  }
 },
 "nbformat": 4,
 "nbformat_minor": 1
}
